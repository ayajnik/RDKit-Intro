{
  "nbformat": 4,
  "nbformat_minor": 0,
  "metadata": {
    "colab": {
      "name": "RDKitIntro.ipynb",
      "provenance": []
    },
    "kernelspec": {
      "name": "python3",
      "display_name": "Python 3"
    },
    "accelerator": "GPU"
  },
  "cells": [
    {
      "cell_type": "code",
      "metadata": {
        "id": "Q-dgRhRkwAb0",
        "colab_type": "code",
        "colab": {
          "base_uri": "https://localhost:8080/",
          "height": 1000
        },
        "outputId": "5e20df22-7fbc-40f9-861e-39c8c81cbd8b"
      },
      "source": [
        "# Install RDKit. Takes 2-3 minutes\n",
        "!wget -c https://repo.continuum.io/miniconda/Miniconda3-latest-Linux-x86_64.sh\n",
        "!chmod +x Miniconda3-latest-Linux-x86_64.sh\n",
        "!time bash ./Miniconda3-latest-Linux-x86_64.sh -b -f -p /usr/local\n",
        "!time conda install -q -y -c conda-forge rdkit"
      ],
      "execution_count": 1,
      "outputs": [
        {
          "output_type": "stream",
          "text": [
            "--2020-04-05 19:48:31--  https://repo.continuum.io/miniconda/Miniconda3-latest-Linux-x86_64.sh\n",
            "Resolving repo.continuum.io (repo.continuum.io)... 104.18.200.79, 104.18.201.79, 2606:4700::6812:c94f, ...\n",
            "Connecting to repo.continuum.io (repo.continuum.io)|104.18.200.79|:443... connected.\n",
            "HTTP request sent, awaiting response... 200 OK\n",
            "Length: 85055499 (81M) [application/x-sh]\n",
            "Saving to: ‘Miniconda3-latest-Linux-x86_64.sh’\n",
            "\n",
            "Miniconda3-latest-L 100%[===================>]  81.12M  47.6MB/s    in 1.7s    \n",
            "\n",
            "2020-04-05 19:48:33 (47.6 MB/s) - ‘Miniconda3-latest-Linux-x86_64.sh’ saved [85055499/85055499]\n",
            "\n",
            "PREFIX=/usr/local\n",
            "Unpacking payload ...\n",
            "Collecting package metadata (current_repodata.json): - \b\b\\ \b\b| \b\bdone\n",
            "Solving environment: - \b\b\\ \b\bdone\n",
            "\n",
            "## Package Plan ##\n",
            "\n",
            "  environment location: /usr/local\n",
            "\n",
            "  added / updated specs:\n",
            "    - _libgcc_mutex==0.1=main\n",
            "    - asn1crypto==1.3.0=py37_0\n",
            "    - ca-certificates==2020.1.1=0\n",
            "    - certifi==2019.11.28=py37_0\n",
            "    - cffi==1.14.0=py37h2e261b9_0\n",
            "    - chardet==3.0.4=py37_1003\n",
            "    - conda-package-handling==1.6.0=py37h7b6447c_0\n",
            "    - conda==4.8.2=py37_0\n",
            "    - cryptography==2.8=py37h1ba5d50_0\n",
            "    - idna==2.8=py37_0\n",
            "    - ld_impl_linux-64==2.33.1=h53a641e_7\n",
            "    - libedit==3.1.20181209=hc058e9b_0\n",
            "    - libffi==3.2.1=hd88cf55_4\n",
            "    - libgcc-ng==9.1.0=hdf63c60_0\n",
            "    - libstdcxx-ng==9.1.0=hdf63c60_0\n",
            "    - ncurses==6.2=he6710b0_0\n",
            "    - openssl==1.1.1d=h7b6447c_4\n",
            "    - pip==20.0.2=py37_1\n",
            "    - pycosat==0.6.3=py37h7b6447c_0\n",
            "    - pycparser==2.19=py37_0\n",
            "    - pyopenssl==19.1.0=py37_0\n",
            "    - pysocks==1.7.1=py37_0\n",
            "    - python==3.7.6=h0371630_2\n",
            "    - readline==7.0=h7b6447c_5\n",
            "    - requests==2.22.0=py37_1\n",
            "    - ruamel_yaml==0.15.87=py37h7b6447c_0\n",
            "    - setuptools==45.2.0=py37_0\n",
            "    - six==1.14.0=py37_0\n",
            "    - sqlite==3.31.1=h7b6447c_0\n",
            "    - tk==8.6.8=hbc83047_0\n",
            "    - tqdm==4.42.1=py_0\n",
            "    - urllib3==1.25.8=py37_0\n",
            "    - wheel==0.34.2=py37_0\n",
            "    - xz==5.2.4=h14c3975_4\n",
            "    - yaml==0.1.7=had09818_2\n",
            "    - zlib==1.2.11=h7b6447c_3\n",
            "\n",
            "\n",
            "The following NEW packages will be INSTALLED:\n",
            "\n",
            "  _libgcc_mutex      pkgs/main/linux-64::_libgcc_mutex-0.1-main\n",
            "  asn1crypto         pkgs/main/linux-64::asn1crypto-1.3.0-py37_0\n",
            "  ca-certificates    pkgs/main/linux-64::ca-certificates-2020.1.1-0\n",
            "  certifi            pkgs/main/linux-64::certifi-2019.11.28-py37_0\n",
            "  cffi               pkgs/main/linux-64::cffi-1.14.0-py37h2e261b9_0\n",
            "  chardet            pkgs/main/linux-64::chardet-3.0.4-py37_1003\n",
            "  conda              pkgs/main/linux-64::conda-4.8.2-py37_0\n",
            "  conda-package-han~ pkgs/main/linux-64::conda-package-handling-1.6.0-py37h7b6447c_0\n",
            "  cryptography       pkgs/main/linux-64::cryptography-2.8-py37h1ba5d50_0\n",
            "  idna               pkgs/main/linux-64::idna-2.8-py37_0\n",
            "  ld_impl_linux-64   pkgs/main/linux-64::ld_impl_linux-64-2.33.1-h53a641e_7\n",
            "  libedit            pkgs/main/linux-64::libedit-3.1.20181209-hc058e9b_0\n",
            "  libffi             pkgs/main/linux-64::libffi-3.2.1-hd88cf55_4\n",
            "  libgcc-ng          pkgs/main/linux-64::libgcc-ng-9.1.0-hdf63c60_0\n",
            "  libstdcxx-ng       pkgs/main/linux-64::libstdcxx-ng-9.1.0-hdf63c60_0\n",
            "  ncurses            pkgs/main/linux-64::ncurses-6.2-he6710b0_0\n",
            "  openssl            pkgs/main/linux-64::openssl-1.1.1d-h7b6447c_4\n",
            "  pip                pkgs/main/linux-64::pip-20.0.2-py37_1\n",
            "  pycosat            pkgs/main/linux-64::pycosat-0.6.3-py37h7b6447c_0\n",
            "  pycparser          pkgs/main/linux-64::pycparser-2.19-py37_0\n",
            "  pyopenssl          pkgs/main/linux-64::pyopenssl-19.1.0-py37_0\n",
            "  pysocks            pkgs/main/linux-64::pysocks-1.7.1-py37_0\n",
            "  python             pkgs/main/linux-64::python-3.7.6-h0371630_2\n",
            "  readline           pkgs/main/linux-64::readline-7.0-h7b6447c_5\n",
            "  requests           pkgs/main/linux-64::requests-2.22.0-py37_1\n",
            "  ruamel_yaml        pkgs/main/linux-64::ruamel_yaml-0.15.87-py37h7b6447c_0\n",
            "  setuptools         pkgs/main/linux-64::setuptools-45.2.0-py37_0\n",
            "  six                pkgs/main/linux-64::six-1.14.0-py37_0\n",
            "  sqlite             pkgs/main/linux-64::sqlite-3.31.1-h7b6447c_0\n",
            "  tk                 pkgs/main/linux-64::tk-8.6.8-hbc83047_0\n",
            "  tqdm               pkgs/main/noarch::tqdm-4.42.1-py_0\n",
            "  urllib3            pkgs/main/linux-64::urllib3-1.25.8-py37_0\n",
            "  wheel              pkgs/main/linux-64::wheel-0.34.2-py37_0\n",
            "  xz                 pkgs/main/linux-64::xz-5.2.4-h14c3975_4\n",
            "  yaml               pkgs/main/linux-64::yaml-0.1.7-had09818_2\n",
            "  zlib               pkgs/main/linux-64::zlib-1.2.11-h7b6447c_3\n",
            "\n",
            "\n",
            "Preparing transaction: / \b\b- \b\b\\ \b\bdone\n",
            "Executing transaction: / \b\b- \b\b\\ \b\b| \b\b/ \b\b- \b\b\\ \b\b| \b\b/ \b\b- \b\b\\ \b\b| \b\bdone\n",
            "installation finished.\n",
            "WARNING:\n",
            "    You currently have a PYTHONPATH environment variable set. This may cause\n",
            "    unexpected behavior when running the Python interpreter in Miniconda3.\n",
            "    For best results, please verify that your PYTHONPATH only points to\n",
            "    directories of packages that are compatible with the Python interpreter\n",
            "    in Miniconda3: /usr/local\n",
            "\n",
            "real\t0m23.032s\n",
            "user\t0m6.687s\n",
            "sys\t0m3.475s\n",
            "Collecting package metadata (current_repodata.json): ...working... done\n",
            "Solving environment: ...working... done\n",
            "\n",
            "## Package Plan ##\n",
            "\n",
            "  environment location: /usr/local\n",
            "\n",
            "  added / updated specs:\n",
            "    - rdkit\n",
            "\n",
            "\n",
            "The following packages will be downloaded:\n",
            "\n",
            "    package                    |            build\n",
            "    ---------------------------|-----------------\n",
            "    boost-1.72.0               |   py37h9de70de_0         316 KB  conda-forge\n",
            "    boost-cpp-1.72.0           |       h8e57a91_0        21.8 MB  conda-forge\n",
            "    bzip2-1.0.8                |       h516909a_2         396 KB  conda-forge\n",
            "    ca-certificates-2019.11.28 |       hecc5488_0         145 KB  conda-forge\n",
            "    cairo-1.16.0               |    hcf35c78_1003         1.5 MB  conda-forge\n",
            "    certifi-2019.11.28         |   py37hc8dfbb8_1         149 KB  conda-forge\n",
            "    conda-4.8.3                |   py37hc8dfbb8_1         3.0 MB  conda-forge\n",
            "    fontconfig-2.13.1          |    h86ecdb6_1001         340 KB  conda-forge\n",
            "    freetype-2.10.1            |       he06d7ca_0         877 KB  conda-forge\n",
            "    gettext-0.19.8.1           |    hc5be6a0_1002         3.6 MB  conda-forge\n",
            "    glib-2.58.3                |py37he00f558_1004         3.3 MB  conda-forge\n",
            "    icu-64.2                   |       he1b5a44_1        12.6 MB  conda-forge\n",
            "    jpeg-9c                    |    h14c3975_1001         251 KB  conda-forge\n",
            "    libblas-3.8.0              |      14_openblas          10 KB  conda-forge\n",
            "    libcblas-3.8.0             |      14_openblas          10 KB  conda-forge\n",
            "    libgfortran-ng-7.3.0       |       hdf63c60_5         1.7 MB  conda-forge\n",
            "    libiconv-1.15              |    h516909a_1006         2.0 MB  conda-forge\n",
            "    liblapack-3.8.0            |      14_openblas          10 KB  conda-forge\n",
            "    libopenblas-0.3.7          |       h5ec1e0e_6         7.6 MB  conda-forge\n",
            "    libpng-1.6.37              |       hed695b0_1         308 KB  conda-forge\n",
            "    libtiff-4.1.0              |       hc7e4089_6         668 KB  conda-forge\n",
            "    libuuid-2.32.1             |    h14c3975_1000          26 KB  conda-forge\n",
            "    libwebp-base-1.1.0         |       h516909a_3         845 KB  conda-forge\n",
            "    libxcb-1.13                |    h14c3975_1002         396 KB  conda-forge\n",
            "    libxml2-2.9.10             |       hee79883_0         1.3 MB  conda-forge\n",
            "    lz4-c-1.8.3                |    he1b5a44_1001         187 KB  conda-forge\n",
            "    numpy-1.18.1               |   py37h8960a57_1         5.2 MB  conda-forge\n",
            "    olefile-0.46               |             py_0          31 KB  conda-forge\n",
            "    openssl-1.1.1f             |       h516909a_0         2.1 MB  conda-forge\n",
            "    pandas-1.0.3               |   py37h0da4684_0        11.1 MB  conda-forge\n",
            "    pcre-8.44                  |       he1b5a44_0         261 KB  conda-forge\n",
            "    pillow-7.0.0               |   py37hb39fc2d_0         598 KB\n",
            "    pixman-0.38.0              |    h516909a_1003         594 KB  conda-forge\n",
            "    pthread-stubs-0.4          |    h14c3975_1001           5 KB  conda-forge\n",
            "    pycairo-1.19.1             |   py37h01af8b0_3          77 KB  conda-forge\n",
            "    python-dateutil-2.8.1      |             py_0         220 KB  conda-forge\n",
            "    python_abi-3.7             |          1_cp37m           4 KB  conda-forge\n",
            "    pytz-2019.3                |             py_0         237 KB  conda-forge\n",
            "    rdkit-2020.03.1            |   py37hdd87690_1        24.7 MB  conda-forge\n",
            "    xorg-kbproto-1.0.7         |    h14c3975_1002          26 KB  conda-forge\n",
            "    xorg-libice-1.0.10         |       h516909a_0          57 KB  conda-forge\n",
            "    xorg-libsm-1.2.3           |    h84519dc_1000          25 KB  conda-forge\n",
            "    xorg-libx11-1.6.9          |       h516909a_0         918 KB  conda-forge\n",
            "    xorg-libxau-1.0.9          |       h14c3975_0          13 KB  conda-forge\n",
            "    xorg-libxdmcp-1.1.3        |       h516909a_0          18 KB  conda-forge\n",
            "    xorg-libxext-1.3.4         |       h516909a_0          51 KB  conda-forge\n",
            "    xorg-libxrender-0.9.10     |    h516909a_1002          31 KB  conda-forge\n",
            "    xorg-renderproto-0.11.1    |    h14c3975_1002           8 KB  conda-forge\n",
            "    xorg-xextproto-7.3.0       |    h14c3975_1002          27 KB  conda-forge\n",
            "    xorg-xproto-7.0.31         |    h14c3975_1007          72 KB  conda-forge\n",
            "    zstd-1.4.4                 |       h3b9ef0a_2         982 KB  conda-forge\n",
            "    ------------------------------------------------------------\n",
            "                                           Total:       110.6 MB\n",
            "\n",
            "The following NEW packages will be INSTALLED:\n",
            "\n",
            "  boost              conda-forge/linux-64::boost-1.72.0-py37h9de70de_0\n",
            "  boost-cpp          conda-forge/linux-64::boost-cpp-1.72.0-h8e57a91_0\n",
            "  bzip2              conda-forge/linux-64::bzip2-1.0.8-h516909a_2\n",
            "  cairo              conda-forge/linux-64::cairo-1.16.0-hcf35c78_1003\n",
            "  fontconfig         conda-forge/linux-64::fontconfig-2.13.1-h86ecdb6_1001\n",
            "  freetype           conda-forge/linux-64::freetype-2.10.1-he06d7ca_0\n",
            "  gettext            conda-forge/linux-64::gettext-0.19.8.1-hc5be6a0_1002\n",
            "  glib               conda-forge/linux-64::glib-2.58.3-py37he00f558_1004\n",
            "  icu                conda-forge/linux-64::icu-64.2-he1b5a44_1\n",
            "  jpeg               conda-forge/linux-64::jpeg-9c-h14c3975_1001\n",
            "  libblas            conda-forge/linux-64::libblas-3.8.0-14_openblas\n",
            "  libcblas           conda-forge/linux-64::libcblas-3.8.0-14_openblas\n",
            "  libgfortran-ng     conda-forge/linux-64::libgfortran-ng-7.3.0-hdf63c60_5\n",
            "  libiconv           conda-forge/linux-64::libiconv-1.15-h516909a_1006\n",
            "  liblapack          conda-forge/linux-64::liblapack-3.8.0-14_openblas\n",
            "  libopenblas        conda-forge/linux-64::libopenblas-0.3.7-h5ec1e0e_6\n",
            "  libpng             conda-forge/linux-64::libpng-1.6.37-hed695b0_1\n",
            "  libtiff            conda-forge/linux-64::libtiff-4.1.0-hc7e4089_6\n",
            "  libuuid            conda-forge/linux-64::libuuid-2.32.1-h14c3975_1000\n",
            "  libwebp-base       conda-forge/linux-64::libwebp-base-1.1.0-h516909a_3\n",
            "  libxcb             conda-forge/linux-64::libxcb-1.13-h14c3975_1002\n",
            "  libxml2            conda-forge/linux-64::libxml2-2.9.10-hee79883_0\n",
            "  lz4-c              conda-forge/linux-64::lz4-c-1.8.3-he1b5a44_1001\n",
            "  numpy              conda-forge/linux-64::numpy-1.18.1-py37h8960a57_1\n",
            "  olefile            conda-forge/noarch::olefile-0.46-py_0\n",
            "  pandas             conda-forge/linux-64::pandas-1.0.3-py37h0da4684_0\n",
            "  pcre               conda-forge/linux-64::pcre-8.44-he1b5a44_0\n",
            "  pillow             pkgs/main/linux-64::pillow-7.0.0-py37hb39fc2d_0\n",
            "  pixman             conda-forge/linux-64::pixman-0.38.0-h516909a_1003\n",
            "  pthread-stubs      conda-forge/linux-64::pthread-stubs-0.4-h14c3975_1001\n",
            "  pycairo            conda-forge/linux-64::pycairo-1.19.1-py37h01af8b0_3\n",
            "  python-dateutil    conda-forge/noarch::python-dateutil-2.8.1-py_0\n",
            "  python_abi         conda-forge/linux-64::python_abi-3.7-1_cp37m\n",
            "  pytz               conda-forge/noarch::pytz-2019.3-py_0\n",
            "  rdkit              conda-forge/linux-64::rdkit-2020.03.1-py37hdd87690_1\n",
            "  xorg-kbproto       conda-forge/linux-64::xorg-kbproto-1.0.7-h14c3975_1002\n",
            "  xorg-libice        conda-forge/linux-64::xorg-libice-1.0.10-h516909a_0\n",
            "  xorg-libsm         conda-forge/linux-64::xorg-libsm-1.2.3-h84519dc_1000\n",
            "  xorg-libx11        conda-forge/linux-64::xorg-libx11-1.6.9-h516909a_0\n",
            "  xorg-libxau        conda-forge/linux-64::xorg-libxau-1.0.9-h14c3975_0\n",
            "  xorg-libxdmcp      conda-forge/linux-64::xorg-libxdmcp-1.1.3-h516909a_0\n",
            "  xorg-libxext       conda-forge/linux-64::xorg-libxext-1.3.4-h516909a_0\n",
            "  xorg-libxrender    conda-forge/linux-64::xorg-libxrender-0.9.10-h516909a_1002\n",
            "  xorg-renderproto   conda-forge/linux-64::xorg-renderproto-0.11.1-h14c3975_1002\n",
            "  xorg-xextproto     conda-forge/linux-64::xorg-xextproto-7.3.0-h14c3975_1002\n",
            "  xorg-xproto        conda-forge/linux-64::xorg-xproto-7.0.31-h14c3975_1007\n",
            "  zstd               conda-forge/linux-64::zstd-1.4.4-h3b9ef0a_2\n",
            "\n",
            "The following packages will be UPDATED:\n",
            "\n",
            "  certifi              pkgs/main::certifi-2019.11.28-py37_0 --> conda-forge::certifi-2019.11.28-py37hc8dfbb8_1\n",
            "  conda                       pkgs/main::conda-4.8.2-py37_0 --> conda-forge::conda-4.8.3-py37hc8dfbb8_1\n",
            "  openssl              pkgs/main::openssl-1.1.1d-h7b6447c_4 --> conda-forge::openssl-1.1.1f-h516909a_0\n",
            "\n",
            "The following packages will be SUPERSEDED by a higher-priority channel:\n",
            "\n",
            "  ca-certificates     pkgs/main::ca-certificates-2020.1.1-0 --> conda-forge::ca-certificates-2019.11.28-hecc5488_0\n",
            "\n",
            "\n",
            "Preparing transaction: ...working... done\n",
            "Verifying transaction: ...working... done\n",
            "Executing transaction: ...working... done\n",
            "\n",
            "real\t0m40.790s\n",
            "user\t0m31.096s\n",
            "sys\t0m3.696s\n"
          ],
          "name": "stdout"
        }
      ]
    },
    {
      "cell_type": "code",
      "metadata": {
        "id": "RXg_4dQFwKPg",
        "colab_type": "code",
        "colab": {}
      },
      "source": [
        "import sys\n",
        "sys.path.append('/usr/local/lib/python3.7/site-packages/')\n",
        "\n",
        "from rdkit import Chem\n",
        "from rdkit.Chem import Draw\n",
        "from rdkit.Chem.Draw import IPythonConsole\n",
        "from rdkit.Chem import Descriptors\n",
        "from rdkit.Chem import AllChem\n",
        "from rdkit import DataStructs\n",
        "import numpy as np"
      ],
      "execution_count": 0,
      "outputs": []
    },
    {
      "cell_type": "code",
      "metadata": {
        "id": "vFqk_BUA5QX1",
        "colab_type": "code",
        "colab": {
          "base_uri": "https://localhost:8080/",
          "height": 167
        },
        "outputId": "70d0bbde-c6ef-43dd-a865-b6fac132a83c"
      },
      "source": [
        "##using RDKit to convert text based molecules representation to actual moelecular representation\n",
        "##example:\n",
        "mol = Chem.MolFromSmiles('CC')\n",
        "mol"
      ],
      "execution_count": 3,
      "outputs": [
        {
          "output_type": "execute_result",
          "data": {
            "image/png": "[encoded data removed]",
            "text/plain": [
              "<rdkit.Chem.rdchem.Mol at 0x7f742e274850>"
            ]
          },
          "metadata": {
            "tags": []
          },
          "execution_count": 3
        }
      ]
    },
    {
      "cell_type": "code",
      "metadata": {
        "id": "mio80G6n5xCY",
        "colab_type": "code",
        "colab": {
          "base_uri": "https://localhost:8080/",
          "height": 34
        },
        "outputId": "21d10798-7131-450f-8bff-98b296c58bf0"
      },
      "source": [
        "chem_to_smile = Chem.MolToSmiles(mol)\n",
        "chem_to_smile"
      ],
      "execution_count": 4,
      "outputs": [
        {
          "output_type": "execute_result",
          "data": {
            "text/plain": [
              "'CC'"
            ]
          },
          "metadata": {
            "tags": []
          },
          "execution_count": 4
        }
      ]
    },
    {
      "cell_type": "code",
      "metadata": {
        "id": "Ymggmpxp8B7C",
        "colab_type": "code",
        "colab": {
          "base_uri": "https://localhost:8080/",
          "height": 34
        },
        "outputId": "2eb66d6b-d902-4d7d-c261-4ec8b8fbb664"
      },
      "source": [
        "##calculating the molecular weight\n",
        "mol_weight = Descriptors.MolWt(mol)\n",
        "mol_weight"
      ],
      "execution_count": 6,
      "outputs": [
        {
          "output_type": "execute_result",
          "data": {
            "text/plain": [
              "30.07"
            ]
          },
          "metadata": {
            "tags": []
          },
          "execution_count": 6
        }
      ]
    },
    {
      "cell_type": "code",
      "metadata": {
        "id": "CXU_wZz68WIb",
        "colab_type": "code",
        "colab": {
          "base_uri": "https://localhost:8080/",
          "height": 434
        },
        "outputId": "48d3cfd1-1c52-40a8-81b2-e8a3f2a9c815"
      },
      "source": [
        "smiles_list = ['C(C(=O)O)N','N[C@@H](CCl=CC=CC=Cl)C(O)=O']\n",
        "mol_list = []\n",
        "\n",
        "for smiles in smiles_list:\n",
        "    mol = Chem.MolFromSmiles(smiles)\n",
        "    mol_list.append(mol)\n",
        "\n",
        "img = Draw.MolsToGridImage(mol_list,molsPerRow = 1)\n",
        "img"
      ],
      "execution_count": 8,
      "outputs": [
        {
          "output_type": "stream",
          "text": [
            "RDKit ERROR: [20:09:21] Explicit valence for atom # 3 Cl, 3, is greater than permitted\n"
          ],
          "name": "stderr"
        },
        {
          "output_type": "execute_result",
          "data": {
            "image/png": "[encoded data removed]",
            "text/plain": [
              "<PIL.PngImagePlugin.PngImageFile image mode=RGB size=200x400 at 0x7F742DBC8160>"
            ]
          },
          "metadata": {
            "tags": []
          },
          "execution_count": 8
        }
      ]
    },
    {
      "cell_type": "code",
      "metadata": {
        "id": "LYvElfBe9aWq",
        "colab_type": "code",
        "colab": {
          "base_uri": "https://localhost:8080/",
          "height": 214
        },
        "outputId": "fb6329e2-1ed5-42c2-e0e7-5eb34f6d13d4"
      },
      "source": [
        "##we can also find patterns in the molecules. for example if we want to know if all these molecules contain N or not\n",
        "pattern = Chem.MolFromSmiles('N')\n",
        "for mols in mol_list:\n",
        "    print(mols.HasSubstructMatch(pattern))"
      ],
      "execution_count": 11,
      "outputs": [
        {
          "output_type": "stream",
          "text": [
            "True\n"
          ],
          "name": "stdout"
        },
        {
          "output_type": "error",
          "ename": "AttributeError",
          "evalue": "ignored",
          "traceback": [
            "\u001b[0;31m---------------------------------------------------------------------------\u001b[0m",
            "\u001b[0;31mAttributeError\u001b[0m                            Traceback (most recent call last)",
            "\u001b[0;32m<ipython-input-11-966a401669b9>\u001b[0m in \u001b[0;36m<module>\u001b[0;34m()\u001b[0m\n\u001b[1;32m      1\u001b[0m \u001b[0mpattern\u001b[0m \u001b[0;34m=\u001b[0m \u001b[0mChem\u001b[0m\u001b[0;34m.\u001b[0m\u001b[0mMolFromSmiles\u001b[0m\u001b[0;34m(\u001b[0m\u001b[0;34m'N'\u001b[0m\u001b[0;34m)\u001b[0m\u001b[0;34m\u001b[0m\u001b[0;34m\u001b[0m\u001b[0m\n\u001b[1;32m      2\u001b[0m \u001b[0;32mfor\u001b[0m \u001b[0mmols\u001b[0m \u001b[0;32min\u001b[0m \u001b[0mmol_list\u001b[0m\u001b[0;34m:\u001b[0m\u001b[0;34m\u001b[0m\u001b[0;34m\u001b[0m\u001b[0m\n\u001b[0;32m----> 3\u001b[0;31m     \u001b[0mprint\u001b[0m\u001b[0;34m(\u001b[0m\u001b[0mmols\u001b[0m\u001b[0;34m.\u001b[0m\u001b[0mHasSubstructMatch\u001b[0m\u001b[0;34m(\u001b[0m\u001b[0mpattern\u001b[0m\u001b[0;34m)\u001b[0m\u001b[0;34m)\u001b[0m\u001b[0;34m\u001b[0m\u001b[0;34m\u001b[0m\u001b[0m\n\u001b[0m",
            "\u001b[0;31mAttributeError\u001b[0m: 'NoneType' object has no attribute 'HasSubstructMatch'"
          ]
        }
      ]
    },
    {
      "cell_type": "code",
      "metadata": {
        "id": "P2ISV38K-8uv",
        "colab_type": "code",
        "colab": {
          "base_uri": "https://localhost:8080/",
          "height": 167
        },
        "outputId": "de91c4cf-8b0f-429e-cfd1-08bde9dbad53"
      },
      "source": [
        "##fingerprints and tanimoto similarity\n",
        "glycine = mol_list[0]\n",
        "glycine"
      ],
      "execution_count": 12,
      "outputs": [
        {
          "output_type": "execute_result",
          "data": {
            "image/png": "[encoded data removed]",
            "text/plain": [
              "<rdkit.Chem.rdchem.Mol at 0x7f742dcacc10>"
            ]
          },
          "metadata": {
            "tags": []
          },
          "execution_count": 12
        }
      ]
    },
    {
      "cell_type": "code",
      "metadata": {
        "id": "ICQd1j2t_xEx",
        "colab_type": "code",
        "colab": {
          "base_uri": "https://localhost:8080/",
          "height": 34
        },
        "outputId": "05b33069-fe38-4986-c574-8a12a7154d1e"
      },
      "source": [
        "bi = {}\n",
        "\n",
        "fp = AllChem.GetMorganFingerprintAsBitVect(glycine, 2, nBits = 1024, bitInfo=bi)\n",
        "fp_arr = np.zeros((1,))\n",
        "DataStructs.ConvertToNumpyArray(fp,fp_arr)\n",
        "np.nonzero(fp_arr)\n",
        "list(fp.GetOnBits())"
      ],
      "execution_count": 13,
      "outputs": [
        {
          "output_type": "execute_result",
          "data": {
            "text/plain": [
              "[27, 80, 147, 389, 650, 713, 807, 893, 966, 981]"
            ]
          },
          "metadata": {
            "tags": []
          },
          "execution_count": 13
        }
      ]
    },
    {
      "cell_type": "code",
      "metadata": {
        "id": "E-R1dAluBiwy",
        "colab_type": "code",
        "colab": {
          "base_uri": "https://localhost:8080/",
          "height": 467
        },
        "outputId": "c7e7fddc-c275-4e37-cdfd-ef6c3d522b42"
      },
      "source": [
        "prints = [(glycine,x,bi) for x in fp.GetOnBits()]\n",
        "Draw.DrawMorganBits(prints, molsPerRow = 4, legends=[str(x) for x in fp.GetOnBits()])"
      ],
      "execution_count": 14,
      "outputs": [
        {
          "output_type": "execute_result",
          "data": {
            "image/png": "[encoded data removed]",
            "text/plain": [
              "<PIL.PngImagePlugin.PngImageFile image mode=RGB size=600x450 at 0x7F742D996780>"
            ]
          },
          "metadata": {
            "tags": []
          },
          "execution_count": 14
        }
      ]
    },
    {
      "cell_type": "code",
      "metadata": {
        "id": "2P8TPdATD3tj",
        "colab_type": "code",
        "colab": {
          "base_uri": "https://localhost:8080/",
          "height": 190
        },
        "outputId": "70cf6710-3068-438c-9d95-85afe8683a10"
      },
      "source": [
        "!pip install wget"
      ],
      "execution_count": 18,
      "outputs": [
        {
          "output_type": "stream",
          "text": [
            "Collecting wget\n",
            "  Downloading wget-3.2.zip (10 kB)\n",
            "Building wheels for collected packages: wget\n",
            "  Building wheel for wget (setup.py) ... \u001b[?25l\u001b[?25hdone\n",
            "  Created wheel for wget: filename=wget-3.2-py3-none-any.whl size=9681 sha256=96746512b084a764c4c8d0d65cc0c6e21811c17c448d710c80f53ef026d398ca\n",
            "  Stored in directory: /root/.cache/pip/wheels/a1/b6/7c/0e63e34eb06634181c63adacca38b79ff8f35c37e3c13e3c02\n",
            "Successfully built wget\n",
            "Installing collected packages: wget\n",
            "Successfully installed wget-3.2\n"
          ],
          "name": "stdout"
        }
      ]
    },
    {
      "cell_type": "code",
      "metadata": {
        "id": "gAtLwfHaB4pa",
        "colab_type": "code",
        "colab": {
          "base_uri": "https://localhost:8080/",
          "height": 241
        },
        "outputId": "fb0f8669-c776-44b6-bf46-06b13960ae7d"
      },
      "source": [
        "##RDKit and pandas \n",
        "import pandas as pd\n",
        "\n",
        "#%%bash\n",
        "!wget https://raw.githubusercontent.com/deepchem/deepchem/master/datasets/delaney-processed.csv"
      ],
      "execution_count": 19,
      "outputs": [
        {
          "output_type": "stream",
          "text": [
            "ERROR! Session/line number was not unique in database. History logging moved to new session 61\n",
            "--2020-04-05 20:38:51--  https://raw.githubusercontent.com/deepchem/deepchem/master/datasets/delaney-processed.csv\n",
            "Resolving raw.githubusercontent.com (raw.githubusercontent.com)... 151.101.0.133, 151.101.64.133, 151.101.128.133, ...\n",
            "Connecting to raw.githubusercontent.com (raw.githubusercontent.com)|151.101.0.133|:443... connected.\n",
            "HTTP request sent, awaiting response... 200 OK\n",
            "Length: 96699 (94K) [text/plain]\n",
            "Saving to: ‘delaney-processed.csv’\n",
            "\n",
            "delaney-processed.c 100%[===================>]  94.43K  --.-KB/s    in 0.002s  \n",
            "\n",
            "2020-04-05 20:38:52 (58.8 MB/s) - ‘delaney-processed.csv’ saved [96699/96699]\n",
            "\n"
          ],
          "name": "stdout"
        }
      ]
    },
    {
      "cell_type": "code",
      "metadata": {
        "id": "xtVieDYmCcvJ",
        "colab_type": "code",
        "colab": {
          "base_uri": "https://localhost:8080/",
          "height": 238
        },
        "outputId": "a6e23ad8-0b0b-48e8-8334-e8d8937fb04e"
      },
      "source": [
        "data = pd.read_csv('delaney-processed.csv')[['Compound ID', 'smiles', 'measured log solubility in mols per litre']]\n",
        "data.head()"
      ],
      "execution_count": 22,
      "outputs": [
        {
          "output_type": "execute_result",
          "data": {
            "text/html": [
              "<div>\n",
              "<style scoped>\n",
              "    .dataframe tbody tr th:only-of-type {\n",
              "        vertical-align: middle;\n",
              "    }\n",
              "\n",
              "    .dataframe tbody tr th {\n",
              "        vertical-align: top;\n",
              "    }\n",
              "\n",
              "    .dataframe thead th {\n",
              "        text-align: right;\n",
              "    }\n",
              "</style>\n",
              "<table border=\"1\" class=\"dataframe\">\n",
              "  <thead>\n",
              "    <tr style=\"text-align: right;\">\n",
              "      <th></th>\n",
              "      <th>Compound ID</th>\n",
              "      <th>smiles</th>\n",
              "      <th>measured log solubility in mols per litre</th>\n",
              "    </tr>\n",
              "  </thead>\n",
              "  <tbody>\n",
              "    <tr>\n",
              "      <th>0</th>\n",
              "      <td>Amigdalin</td>\n",
              "      <td>OCC3OC(OCC2OC(OC(C#N)c1ccccc1)C(O)C(O)C2O)C(O)...</td>\n",
              "      <td>-0.77</td>\n",
              "    </tr>\n",
              "    <tr>\n",
              "      <th>1</th>\n",
              "      <td>Fenfuram</td>\n",
              "      <td>Cc1occc1C(=O)Nc2ccccc2</td>\n",
              "      <td>-3.30</td>\n",
              "    </tr>\n",
              "    <tr>\n",
              "      <th>2</th>\n",
              "      <td>citral</td>\n",
              "      <td>CC(C)=CCCC(C)=CC(=O)</td>\n",
              "      <td>-2.06</td>\n",
              "    </tr>\n",
              "    <tr>\n",
              "      <th>3</th>\n",
              "      <td>Picene</td>\n",
              "      <td>c1ccc2c(c1)ccc3c2ccc4c5ccccc5ccc43</td>\n",
              "      <td>-7.87</td>\n",
              "    </tr>\n",
              "    <tr>\n",
              "      <th>4</th>\n",
              "      <td>Thiophene</td>\n",
              "      <td>c1ccsc1</td>\n",
              "      <td>-1.33</td>\n",
              "    </tr>\n",
              "  </tbody>\n",
              "</table>\n",
              "</div>"
            ],
            "text/plain": [
              "  Compound ID  ... measured log solubility in mols per litre\n",
              "0   Amigdalin  ...                                     -0.77\n",
              "1    Fenfuram  ...                                     -3.30\n",
              "2      citral  ...                                     -2.06\n",
              "3      Picene  ...                                     -7.87\n",
              "4   Thiophene  ...                                     -1.33\n",
              "\n",
              "[5 rows x 3 columns]"
            ]
          },
          "metadata": {
            "tags": []
          },
          "execution_count": 22
        }
      ]
    },
    {
      "cell_type": "code",
      "metadata": {
        "id": "vFXiaAYHEgRm",
        "colab_type": "code",
        "colab": {
          "base_uri": "https://localhost:8080/",
          "height": 1000
        },
        "outputId": "7d4efebb-025f-44d5-9c01-867b745fb1ee"
      },
      "source": [
        "from rdkit.Chem import PandasTools\n",
        "PandasTools.AddMoleculeColumnToFrame(data,'smiles','Molecule')\n",
        "data.head()"
      ],
      "execution_count": 23,
      "outputs": [
        {
          "output_type": "execute_result",
          "data": {
            "text/html": [
              "<div>\n",
              "<style scoped>\n",
              "    .dataframe tbody tr th:only-of-type {\n",
              "        vertical-align: middle;\n",
              "    }\n",
              "\n",
              "    .dataframe tbody tr th {\n",
              "        vertical-align: top;\n",
              "    }\n",
              "\n",
              "    .dataframe thead th {\n",
              "        text-align: right;\n",
              "    }\n",
              "</style>\n",
              "<table border=\"1\" class=\"dataframe\">\n",
              "  <thead>\n",
              "    <tr style=\"text-align: right;\">\n",
              "      <th></th>\n",
              "      <th>Compound ID</th>\n",
              "      <th>smiles</th>\n",
              "      <th>measured log solubility in mols per litre</th>\n",
              "      <th>Molecule</th>\n",
              "    </tr>\n",
              "  </thead>\n",
              "  <tbody>\n",
              "    <tr>\n",
              "      <th>0</th>\n",
              "      <td>Amigdalin</td>\n",
              "      <td>OCC3OC(OCC2OC(OC(C#N)c1ccccc1)C(O)C(O)C2O)C(O)...</td>\n",
              "      <td>-0.77</td>\n",
              "      <td><img data-content=\"rdkit/molecule\" src=\"data:image/png;base64,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\" alt=\"Mol\"/></td>\n",
              "    </tr>\n",
              "    <tr>\n",
              "      <th>1</th>\n",
              "      <td>Fenfuram</td>\n",
              "      <td>Cc1occc1C(=O)Nc2ccccc2</td>\n",
              "      <td>-3.30</td>\n",
              "      <td><img data-content=\"rdkit/molecule\" src=\"data:image/png;base64,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\" alt=\"Mol\"/></td>\n",
              "    </tr>\n",
              "    <tr>\n",
              "      <th>2</th>\n",
              "      <td>citral</td>\n",
              "      <td>CC(C)=CCCC(C)=CC(=O)</td>\n",
              "      <td>-2.06</td>\n",
              "      <td><img data-content=\"rdkit/molecule\" src=\"data:image/png;base64,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\" alt=\"Mol\"/></td>\n",
              "    </tr>\n",
              "    <tr>\n",
              "      <th>3</th>\n",
              "      <td>Picene</td>\n",
              "      <td>c1ccc2c(c1)ccc3c2ccc4c5ccccc5ccc43</td>\n",
              "      <td>-7.87</td>\n",
              "      <td><img data-content=\"rdkit/molecule\" src=\"data:image/png;base64,iVBORw0KGgoAAAANSUhEUgAAAMgAAADICAIAAAAiOjnJAAAABmJLR0QA/wD/AP+gvaeTAAASt0lEQVR4nO3deVhU1RsH8HdgQAVRsRQtNSMUt9QyLTR3NAPFBUVzwQX3BVMx3FLT3BCtiAK1BzdMRdNMUHPJCtMWNTMh2cwFwyVHR2SbYeb+/jjP7z7zm3Fg7r3nvcPze97PX86VeecOfO/Mueeec65GEAQghDcXZ+8A+f9EwSIoKFgEBQWLoKBgERQULIKCgkVQULAICgoWQUHBIigoWAQFBYugoGARFBQsgoKCRVBQsAgKChZBQcEiKChYBAUFi6CgYBEUFCyCgoJFUFCwCAoKFkFBwSIoKFgEBQWLoKBgERQULIKCgkVQULAICgoWQUHBIigoWAQFBYugoGARFBQsgoKCRVBQsAgKChZBQcEiKChYBAUFi6CgYBEUFCyCgoJFUFCwCAoKFkFBwSIoKFgEBQWLoKBgERQULIKCgkVQULAICgoWQUHBIigoWAQFBYugoGARFBQsgoKCRVBQsAgKChZBQcEiKChYBAUFi6DQOnsHKnfmzJkjR44oLDJhwgQ/Pz8u+6NEbm5uUlKSwiJBQUFvvvkml/1BJFRtEydO5PJL7N2790cffeTc97Jhw4bXX39d+Xvp06fP1KlTnfteKqURBEH5W0Vy8eLFjh07urq6zpo165lnnpFdJysra8eOHbVq1crKymrQoAHHPXTc/fv3mzdv/ujRo/DwcH9/f9l1dDpdXFycyWQ6d+5cp06dOO4hZ85Otl1ms5l9Vi1YsEB5tbfffhsApkyZoryUPJMnTwaAPn36KC8VHR0NAAEBAWazWXk1JFU3WDt37gQAHx8fvV6vvNpff/3l5ubm4uJy/vx55dWk+v33311dXbVa7ZUrV5RXe/z4ccOGDQEgOTlZeTUkVTRYxcXFTZo0AYCtW7fyqjlnzhwA6NKli/oHevfu3QFg7ty5lhtbtGjhJsWTJ0/E57IzgOeff95yY5VSRYP1/vvvA8Crr75qMpkEQTh9+nRMTExZWZnUOjqdbu7cuTdu3BAEQa/X+/j4AMC+ffv477F9KSkpAFCvXr2HDx9abvf19ZXUaCksLBSfazKZWANr6dKlar4Xx1XFYN28edPDw0Oj0fz444+CIBiNxpdffhkA4uLipJaaOHEiAIwYMYI9TEhIAIDGjRsXFRVx3mk7SkpKmjZtCgCJiYlW/2UwGMqksHr62bNnNRpNjRo1/v77b3XeiyRVMVjDhg0DgFGjRrGH8fHxAODr61tSUiK11K1btzw9PQHghx9+EATBZDJ16NABAFauXMl5p+1YsWIFALRr1668vJx78ZEjRwJAWFgY98rKVblgnTlzhh2I7PtLp9M9++yzAHDw4EF5BZctWwYAr7zyCvtWTU9P12g0Hh4erD6q/Px8FuvTp0+j1v/+++8x6itRtYIlfqKsWLGCbZk1axYA9OrVS3bN4uLiF154AQC++OILtmXo0KEAMHr0aA57XKFRo0YBwLBhw/Be4oMPPgCA9u3bY3wiKlG1grVp0ybLNlBmZqabm5urq+sff/yhpOyXX34JAPXr13/06JFg0YZLT0/ns99Pc+7cOY1GU716ddQ2UHFxMWvDbd68Ge9VZKhCwdLr9axbfO/evWzLW2+9BQAzZsxQXrxbt24AMH/+fPZw8eLFANChQwf2/cid2WxmZ21LlizBqG9pz5497LCxOut0rioUrLlz51r2Mx06dAgAvL2979+/r7z4xYsXXVxc3N3ds7KyBEEoKipi/WTbtm1TXtzW1q1bWT+TZR8BHtZPNm/ePBVey0FVJVg5OTnVqlVzcXH57bffBEEoKytr3rw5AHzyySe8XiIiIgIABgwYwB7u2LGDY8++pcLCwueeew4Adu7cybeyPaxn383N7erVq+q8YqWqSrCCg4MBYNKkSezhunXrAKBly5YGg4HXS9y9e7d27doAcPToUUEQzGZzly5dAGDRokW8XoJZuHAhALzxxhtqdvGzHrv+/fur9ooVqxLBOnHiBAB4eXkVFBQINgngKCYmxjKv58+fZ9+P2dnZvF4iLy+vevXqGo3m559/5lXTEeIv7ciRI2q+rj3OD5bRaGzdujUAxMbGsi0TJkwAgJCQEO6vZfsNGx4eDgBDhgzh9RKDBw8GgLFjx/Iq6Lj169cDQIsWLTh+zMvm/GBt3LgRAPz8/EpLSwWbVjZ3VucEd+7cqVWrFgB8++23youfOnUKAGrWrHn79m3l1aQqKytjI72cPqRRcHqwHjx4ULduXQBITU1lW6z6BTD069cPAKZPn84erlq1CgBatWplNBqVlC0vL2/bti0ArF69msduynH48GEAqFOnDpdTaSXkjyC9fv16SkoKO6+WTafT3bt3r3fv3idPnmRb0tLS1q1bd/jwYdZiwJCZmTljxozY2FjWy19aWurv73/z5s3GjRuzKyTyFBUV3bp1q0mTJllZWdWrV+e3v9IEBgaeOnWqfv367IiVbfz48WFhYaz3VQ55eSwpKfH19WWjUBSqUaNGREQE16NFsk6dOrEvRIVq167dqVMnsazBYIiLi+PenVGxiIiIGjVqKH8vPj4+8i78MzI/sVatWrVkyRJ/f//9+/e7urrK3vvMzMywsDCtVvvnn3+yZrX6UlNTBwwYULt27bS0NCVHuV6vDwoKevjwYWpqKus9CQ8P37lz5/z589nZqAry8vJat25tNBp3797NxhrJYzKZhg8fnpmZuWrVqkWLFskpISOMBQUF7Pg+fvy4vDhbGj9+PAAMHDhQeSkZ+DZ4VT4RsRUSEgIAEyZMUF7qu+++AwUnInI+sdiBGBoaun//fjlZ/l9379719/fX6/XHjh1jFwfVFBsbO3/+/BYtWly+fNnNzU1htfLy8vbt22dkZMTGxs6bNw8AIiIikpKSQkJC2NkoqlOnTgUGBnp5eWVlZbFB8QBw9uxZnU7neJFevXp5eHiwf4eGhh44cCA8PHz79u2S90ZqElmnYrVq1XJycgRBUHgmxaxduxZ497M7AqNTUbXOXivl5eXsu2/dunWW2wMCAiTlITc3V3zutWvXZHf2SguW7WWQ9957r2/fvgo/6svKypo1awYAn376qZI6Uk2aNAkAgoOD+ZYNCgoCgMmTJ7OHGJenbMXFxQGAr68v+xYWRUVFBUvBjgeR7MtT0oLFPhLFC7e5ubnsyvEvv/wiqY6tgwcPAr+xDI7Au3CrwgV1Kzqdjk3o/frrr/lWFi+o79ixQ9ITJQRLfI3t27ezLRybisJ/R1/NnDmTS7VKoQ41QR0CZGvGjBmgbJxtBbZt2wYADRo0kNRvIiFY7LRTHBzHujS9vLz++ecfyTv7NBkZGWy86OXLl7kUrAD24DjbQYtW3f0cZWRkaLVavN+b2WxmS04sXrzY8Wc5GiyxHceG84pTsqyaigrNnDkT78gTqTOcF2mYta2+ffsCwKxZs/iWtcSGWYtnbI5wNFihoaEAMGbMGPaQNRVfeuklq6aiQnhtBUvqTEDAmBhiS2yb/vvvvxzL2ho9ejQADB061MGfdyhYrK9MnDIl/vkPHTokf0/tsHd2w4uaU6bsTWU7cOAAl/pqnk3n5+fXrFkTHO4VrzxY5eXl7dq1A4APP/yQbUFtKor9MWvXrsWor/IkT46Tb22tWbMGAFq1aqVO/9/KlSsBgF0yqvSHKw/W559/DgBNmjRhbQXspqLw31FNHE8LROpPS7daLoDj0BpxJNmxY8d47GnlSkpKXnzxRQBISEio9IcrCdbDhw/Zp/f+/fvZFhWaioIgDBw4EADGjx9vubGkpERSX9/EiRMtn+6shTSsFjg5efKkn59fWlqawrLjxo0DgEGDBvHYR0ft27cPAOrWrfvgwYOKf7KSYL377rsA0KNHD/bwwIED6jQV8/LybLteCwsLJV2d8PX1tazprKV/bJdkUn4d7MKFC9xH6zsoMDAQAObMmVPxj1V0Efrq1att27Y1m80XLlxo166dwWBo06ZNTk5OfHw8a2ahio6OjomJCQgI+OmnnzQaDQCYTKajR486XsHT07Nnz57s34WFhf7+/gUFBcnJyWzmu5qSk5PHjBnj4+OTnZ2tfOCXIAjdu3dPT0+Pjo5ml1nVlJGR0b59ewC4dOkSm6zwdBWEji2vKK6jKjYVuVx4rpS4bt2uXbuUV3Pu8op8l71MTk4GAB8fH7ZigPqmTJkCAIGBgRX8jN1PLDb8rU6dOtnZ2fXq1TMajb6+vvn5+SdOnGAfhipISkqKiIho2LBhamqqklGRt27dCgkJMRqNTlwQli3Uq9VqDx06xBYpkae0tDQkJCQ/Pz8pKYkNZVOfTqdr1qyZTqcThzQ+hb3EJSQkuLu7L1++XNxy9+7d+Ph4jsGvlMlk8vPz8/b2Vv678PT05D6KQarg4GAlY+pF3t7efn5+SKtOOGj58uXu7u4VnB7avYFATk6OwWDIy8sTt9SvX1+FppUlvV6v0+kePXrUtGlTJdMT9Hp9QUFBfn6+2Wx2cXHOzTjMZnN+fn5RUVHDhg2VzBMpLS29ceOGRqPR6/XskMvOzp43b15UVBS7rI7BYDD069dv3LhxY8aMYe3dvLw8g8GQk5Nj9zn2EifO6FU+JEa2yMhIAOjZs6fCOrZLZKlvy5YtANCoUSPl56R9+vQBgNmzZ7OHy5cvB+QrVDJmkFfUeF+wYAGovgaBiO9VW6slslQmnojs3r1bebUrV65otVo2A0XAv6Zuu+YFOxFZuHBhBc+qKFjqr5piifs4ExWmwtoTFRUFAJ07d+Z1iE6bNg0AevfuzR6ijgKSt0pPJR2kKq/zJMIYGaf+nBlGHGf766+/8qr54MEDNg7gm2++YVuQxi3KXleskmCpuTKdCG8sr9XBp47+/fsDgNX1JeU+/vhjsBi5xEZau7u78x1pzT7mo6Ki2EPHV0Ks/CK0OmtpWrJqKnKk2pwZEfdxtiKj0dimTRsAWL9+PdvCfYms3bt3g9y1Wx0aj6XC6r8i7L+9OnNmGPFvHxMTg1FfnGrGUst3Npt4Kr1lyxa2RdJq0w4FC3u9ckvY31YqzJkRWX1bYbD6nuW4RJa4Pj7rxZC6Pr6jQ5NR77AgUqd9jT1nhrFtX2MQzwzEqWZcVgxQfkcPR4Ml3hNm06ZNMnfWAVZNRTwcF/q2Z/r06ZY9AnjYXH6xL4PLElkjRowAi3sQJSYmgsR7EEmY/rV371542l2seLFqKqLCmzPDsHG2Wq1Whalsjx8/ZlPN9uzZw7awLsBp06bJKyiOs71+/bpgMZUtJSXF8SLSZkI/9b57XNg2FbFhzJkRsXG2kZGRGMVtbd682fJ6kXjYXLp0SWopk8nUsWNHAFi2bBnbIu8+j9KCVcG0dEl3SLMd0WXVVFRBBXNmJN3wzbaZ/NVXXwFA3bp1scfZikwm02uvvQYA4miU2bNnyzsHYt9L4rdeTk6Ou7u7jDvTSl5tht3bOCgoyHJjbm6u3avcTxMQEGD5dKumomrszZmRNLjF09PT8rnilKzPPvtMzffCxtmK3186nW7mzJlWK3w4ory8PDExUTzYZN9LW3Kw7t27V6dOHfjfzpK8vDxJd6Ht1q2bZc133nkHAIYPHy51ZxQSp5qtWbPGcru3t7fj78Xb29vyuatXrwYVx9laCgsLA4CRI0fyKnj8+HEAqFWrloyAylnRLzY2FgD8/Pxsb/spg3PvFMp3AW2+i3tLZTXVTCGDwcB6LjZs2CDj6XKCJb7kxo0bZTzdkm1TUX2DBg0CgHHjxikvNXbsWAAYPHiw8lLyLF26FCzu+qnEhg0bwGLZS6lkLm6blpbWv39/Dw+PyMhILy8vGRWY8+fPHzx4sFGjRlevXuUybFeGa9eutW7duqysbOrUqY0aNZJd5/bt24mJiVqt9sqVK6yZpb6SkpKWLVveuHFjyJAhrEtTnqKiori4uCdPnqSlpbF15CSTnejQ0NDOnTvL3nVR165duczDUWLRokU9evRQ/l569OjB/ZZPUu3atatr167K30vnzp1DQ0Nl74b8GwgAwNGjR9PT0xW+gcjISNb/5lyXLl1KSUlRWCQsLIzNuXOuO3fusLVVlOjatSs7JZRHUbAIscc5U1bI/z0KFkFBwSIoKFgEBQWLoKBgERQULIKCgkVQULAICgoWQUHBIigoWAQFBYugoGARFBQsgoKCRVBQsAgKChZBQcEiKChYBAUFi6CgYBEUFCyCgoJFUFCwCAoKFkFBwSIoKFgEBQWLoKBgERQULIKCgkVQULAICgoWQUHBIigoWAQFBYugoGARFBQsgoKCRVBQsAgKChZBQcEiKChYBAUFi6CgYBEUFCyCgoJFUFCwCAoKFkFBwSIoKFgEBQWLoKBgERQULIKCgkVQULAICgoWQUHBIigoWAQFBYugoGARFBQsgoKCRVBQsAgKChZBQcEiKChYBMV/AMsMn00B+pp6AAAAAElFTkSuQmCC\" alt=\"Mol\"/></td>\n",
              "    </tr>\n",
              "    <tr>\n",
              "      <th>4</th>\n",
              "      <td>Thiophene</td>\n",
              "      <td>c1ccsc1</td>\n",
              "      <td>-1.33</td>\n",
              "      <td><img data-content=\"rdkit/molecule\" src=\"data:image/png;base64,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\" alt=\"Mol\"/></td>\n",
              "    </tr>\n",
              "  </tbody>\n",
              "</table>\n",
              "</div>"
            ],
            "text/plain": [
              "  Compound ID  ...                                           Molecule\n",
              "0   Amigdalin  ...  <img data-content=\"rdkit/molecule\" src=\"data:i...\n",
              "1    Fenfuram  ...  <img data-content=\"rdkit/molecule\" src=\"data:i...\n",
              "2      citral  ...  <img data-content=\"rdkit/molecule\" src=\"data:i...\n",
              "3      Picene  ...  <img data-content=\"rdkit/molecule\" src=\"data:i...\n",
              "4   Thiophene  ...  <img data-content=\"rdkit/molecule\" src=\"data:i...\n",
              "\n",
              "[5 rows x 4 columns]"
            ]
          },
          "metadata": {
            "tags": []
          },
          "execution_count": 23
        }
      ]
    },
    {
      "cell_type": "code",
      "metadata": {
        "id": "7Cl90DK7FPmf",
        "colab_type": "code",
        "colab": {
          "base_uri": "https://localhost:8080/",
          "height": 1000
        },
        "outputId": "831b5d0a-54cf-48bb-8511-ab602fe75587"
      },
      "source": [
        "data.sort_values(by=['measured log solubility in mols per litre']).head()"
      ],
      "execution_count": 24,
      "outputs": [
        {
          "output_type": "execute_result",
          "data": {
            "text/html": [
              "<div>\n",
              "<style scoped>\n",
              "    .dataframe tbody tr th:only-of-type {\n",
              "        vertical-align: middle;\n",
              "    }\n",
              "\n",
              "    .dataframe tbody tr th {\n",
              "        vertical-align: top;\n",
              "    }\n",
              "\n",
              "    .dataframe thead th {\n",
              "        text-align: right;\n",
              "    }\n",
              "</style>\n",
              "<table border=\"1\" class=\"dataframe\">\n",
              "  <thead>\n",
              "    <tr style=\"text-align: right;\">\n",
              "      <th></th>\n",
              "      <th>Compound ID</th>\n",
              "      <th>smiles</th>\n",
              "      <th>measured log solubility in mols per litre</th>\n",
              "      <th>Molecule</th>\n",
              "    </tr>\n",
              "  </thead>\n",
              "  <tbody>\n",
              "    <tr>\n",
              "      <th>603</th>\n",
              "      <td>2,2',3,3',4,4',5,5',6,6'-PCB</td>\n",
              "      <td>Clc1c(Cl)c(Cl)c(c(Cl)c1Cl)c2c(Cl)c(Cl)c(Cl)c(C...</td>\n",
              "      <td>-11.600</td>\n",
              "      <td><img data-content=\"rdkit/molecule\" src=\"data:image/png;base64,iVBORw0KGgoAAAANSUhEUgAAAMgAAADICAIAAAAiOjnJAAAABmJLR0QA/wD/AP+gvaeTAAAT9ElEQVR4nO2de1RU9fbA9/ASCCOK8K1ogIWvfJRSar5uuSQf4M1uGr7QVonQWgmpFKiBCurK8lErRQ0DJTWhuoZZkGllKgdFBOOlgjxU0JGHjDAz5/z+OK65OGPTMOe7z5nFb3/W/ePOuevu/T3ymTPnfPd3f49KEAQgCNbYKT0AomNCYhEokFgECiQWgQKJRaBAYhEokFgECiQWgQKJRaBAYhEokFgECiQWgQKJRaBAYhEokFgECiQWgQKJRaBAYhEokFgECiQWgQKJRaBAYhEokFgECiQWgQKJRaBAYhEokFgECiQWgQKJRaBAYhEokFgECiQWgQKJRaBAYhEokFgECiQWgQKJRaBAYhEokFgECiQWgQKJRaBAYhEokFgECiQWgQKJRaBAYhEokFgECiQWgQKJRaBAYhEokFgECiQWgQKJRaBAYhEoKCZWaHmoT4GPUtkfCqshdeBTsxyVIAgypNEK2kXli27qbrrYuaR6p7rYuQDA5NLJR32OypAddUgd+NSkINMV67v673o59cr0yQx9IvTSvUvyJDUPqyF14FOTgoM8afI1+S+6vQgAge6B8mT8R1gNqQOfmhRkumKp5PrNtRxWQ+rApyYFmcQa7jr8eNNxAMhsyDx055A8Sc3Dakgd+NSkIJPaPPBhFWEV2gpnlfNe772/NP6yT73vSP2RMW5jlngumeI+RYYxmA4p4K8AZ3tnT3tPcUhp6rTsxuwJnSfM9pht+ZBMTy1NnXas4Vh3x+7ruq9T6tT+c/k/BS0Ffp38UrxTrD41SQgKEVcTBxyMKx6n1ACyGrKAA4/zHk36JraRm/RNHuc9gIOshiy2kS1nXPE44CCuJk6pASgmllqn9szzBA4OqQ/Jn13H6wYXDgYO1tesx4i/rmYdcOBf4K/ltRjxzXNQfRA4eDzv8VvaW/JnF1FMLEEQPrv5GXDQO7/3Xf1dmVNvu7kNOOh3sZ9Gr8GI38K3+F70BQ6239yOEd8MGr2mb35f4ODz2s9lTt0WJcXS8bohhUOAg/iaeDnz3tbdFi+Wh9WH8bJ8o/5GvGzUaevwspgi3mMMKBigyMXSgJJiCYKQ3ZANHLiecy1vKZctaXhFOHAwoXgCdqKXS14GDiKuRWAnMlDZWul2zg04OFZ/TLakD0VhsQRBmFk2EzgIuRIiT7pCTaFjrqN9rn1ecx52rgJNgUOug0OuQ35zPnYukTevvAkc/Lvs3/KkM4PyYl1uuex8zlnFqU42npQh3eSSycDBkoolMuQSBOGdineAg4nFE2XIdarplIpTdcrtVHKvRIZ05lFeLEEQoquigYPxl8bzPI+aKPN6pjjFUKutRU1koFZbK049ZF7PRE3E8/z4S+OBg+iqaNREFmITYjXqGwN/DvT080xOTsbL0tLS4uvrOyp61Oflsj4ufV7++ajoUb6+vi0tLXhZkpOTPf08A38ObNQ34mWxHJsQSxCE5ORkAOjSpUt9fT1SisTERAB45plnWltbkVI8FK1WO3DgQADYsGEDUorGxsbu3bsDwN69e5FStBdbEYvn+RdffBEAoqNRruQ3btxwd3cHgMxM3J+kh/Lzzz8DQOfOnaurqzHir1y5EgBGjRqFfS9hObYiliAIOTk5dnZ2Tk5OxcXFzIMvXLgQAKZNm8Y8soVMnToVAEJDQ5lHLisrc3Z2VqlUf/75J/PgVmNDYgmCMHfuXAAIDg5mGzY3N1dUtqioiG1kyyktLe3UqZOdnd2ZM2fYRg4KCgKAefPmsQ0rEdsS6/r1648++igAHDvGcn5v7NixABAVFcUwphVERkYCwAsvvMDwBys7OxsA3NzcqqqqWMVkgm2JJQhCfHw8AAwYMECrZVOR2LdvHwB4eXnduXOHSUCraWho6NatGwDs37+fSUCdTjd48GAAWLt2LZOADFF+qaERLS0tAwcOLC0tjYyMDA4Olh4tJCSksrIyKSkpNDSUyQilkJSUtHjx4m7duqWkpLi4uEiMdvjw4U2bNvXt27ewsNDZ2ZnJCJmhtNkPYc+ePU5OTqxO0MvLq0+fPnq9XunTEgRB0Ov1ffr08fLyYnV2Tk5Oe/bsUfq0HoJMzRTtIicnp7W11dPT08dHaiucRqO5cOGCi4tLdXV1z549mQxPCtXV1bW1tRqNZsiQIdKvWKWlpXV1dTk5OfPnz2cxOqYobbYxBQUFDg4ODg4OFy5cYBJw1qxZADB79mwm0STyxhtvAMDrr7/OJFphYaGjo6O9vT2rfyuG2JxYL7/8MgCEh4ezClhRUeHq6qpSqU6cOMEqpnX88ccfKpXKxcXlypUrrGIuXboUACZMQF8C1F5s6+Y9PT09ODjYw8OjpKTkiSeeYBU2NjY2Li5u2LBhZ8+etbNTZlcBnucDAgLOnDkTGxu7Zs0aw/GsrKz6+vp2hRo5cmSPHj3E/65Wq/38/Orq6tLT02fMmMFyxBJR2uz/IRaJAWDbtm3iEYl33Ib/e3Nzc+/evQFg9+7dUkdpLbt27QKAHj16NDU90LsxaNCg9v7JDhw40DbC1q1bAaBfv34aDcoya+uwoStWQkLCypUr/f398/LyHBwceJ4fO3bsmDFjYmJiXF1d2xvt5MmTERER8fHxgYGBAJCamvrmm2926dKlqKhILBrKSWNjY//+/WtqalJTU2fPnt32f3rvvfeuXr3armhRUVEBAQGGj3q9fujQofn5+QkJCcuXL2cyYAYobfZ9DHPuP/74o3gkKSkJAHr27Gn0FbeQzZs3A8BTTz117949QRB4nh8zZgwALF++nOW4LeP9998HgICAAKQicVZWFmAWua3AVsQSH5hnzJghfjRMUu/bt8+6gFqtdsCAAQCwadMm8QjHcXhFbjOUlZWJVcLTp0/jZZk+fToALFiwAC9Fu7AJsUz/5FFRUdK/4j/99JP4Pa6pqRGPGOkrD/L8yeXR13KUF4vn+dGjRwPAihUrxCMMFwKIN1iLFy8WPxp+cI8ePSoxsoXI+SMl3mDh/eC2C+XFSklJgQfXjjJculRSUiI6evbsWfHI+vXrAcDf31+GdaQ6nU586EtISMDOJbS5f0hNTZUhnXkUFst0IoD5Ystly5ZBm8UqhkmNrVu3Molvhi1btgBAv379xAcIGfi7SQ35UVismJgYABg2bJg456TVasWveGJiIqsUDQ0NXbt2BYC0tDTxSHp6OgB4eHjU1SH2KN++fVuc483IyMDLYoRer3/++ecBIDY2VrakD0VJsUyLLZ9++mnbOQJW7NixQ5y5uHv3/iYRzAtHpihVbMEoHFmBkmK99tprADBnzhzx461bt8Sv+Lfffss2kV6vHzFiBACsWbNGPCKWuvHKtwUFBQqWh8U52FmzZsmf2oBiYv3222/iF6u8/P6uDUuWLAGAiRNRmoYN6a5evSoeCQsLw7uivPLKKwCwdOlSjOD/SGVl5SOPPAIAx48fV2QAglJiyX8JEUzWz+DdAxnu4WprZeq3NmX16tUA8Oyzz+p0OkUGoIxYX3zxBQD06tVLzpse01s6jKc2OZ86zdDc3Ozt7Q0AO3bsUGQA7RNr4dWFT118SmJKw2Pa119/LR45fPiwDI9pgiDExsYCwNChQ8WHUMM8E8OH0ISEBFCi39qUtLQ0QOgisdABc2K18q1zr8ydXDI5qCyoWd8sHnyl5BWJIzOaWOJ5XvzryvAVb2pqEhcoHz58f8s1ttNm169fF5dOyDazbx6x7y0yMtLqCFY7YE6sQ+pDH1R9IAjCf+/8l7vLGQUdXTQaOHjof+w4c4vp3NzcVCoVx3GGROXl5ZGRkaz6vcyTkZHx1VdftS16TJo0yd7e/h8WgViMvb39pEmTZDgRS+A4TqVSubm5mRmw3Vm7v/s7ji4abd4BM5hrppDtBQe9e/feuHEjagoDYklYNgRBSE1N7dy5swx5dTrdypUrw8PDxWIGE6x3wIx0q6tXH7lzxOig9J9CjIZgq2H7U2i69Yh4+2j1qrJ2IS4lHTRokOEfVnoLuNUOmBPr+zvfR1VGCYLwQ/0PB9UHLQ9qHtMai1JgbDBktFmSbDUW09mT/fv3g+Sbd6sdMCeWXtC/Xf72lNIpwWXBTfqm7+98P+fKnG4Xus25MsfU4nZhqLEoWyvFqCC1tLT4+fkBwJYtW8Qj8tRYjOZ7m5ub+/TpAwA7d+6UEtZqBxSeIF29erUiAxAwK0gZGRnw4AQpdo3FdHp51apVADB06ND/XxOkgiD8/vvvRjUWmUGtIIklnbCwMPEjdo3FqIJ07do1Md2vv/6Kkc4SlCxCK9ijzLzf2ghDj3Je3v1Nv8VeQowai2kFiW2/tXXY1rIZ2RArSBERiFv7h4eHG930YNRYTCtItGxGEExqLPIgTwXp9u3bnp6eAJCeni4eMdRY1Go1qyxGK631ev1zzz0HAKtWrWKVwjqUX5osPrzs2rVLnoym/dZ4mPYov/TSSwCwbNkyJvFNe0MkNmMyRPlmitTUVOnTLZazbt068SsuQwXJUORev/7+y+vOnTtnb2/v6Oj4119/SY+/YMECAJg+fbr4UXozJkOUF0vOHmXTfmtsxPavtnuELl68GAACAwMlRjY0Yxp27MXut24XyoslPOzfCIl58+YBQFBQEGoWI8RNYObPny9+vHHjxmOPPQYAP/zwg9UxTb+NhmZMalh9AKOrOga202K/adMmAHj66aetXrNlaMY03D9MmzYNABYuXMhm0JKxFbGwVzKZ9lvLiVGPcmtra//+/QFg8+bNVkQzbca0wU1BbGgbo8TExBUrVvj7+58/f97R0dFw/NSpU+1dVOPt7f3xxx+3PZKSkhISEtKlS5fi4mLxNktODNsYpaSkzJkzBwCOHDny4YcfbtmyRfxFaxfNzc1xcXEnT548ceKEnZ2dYRujxMRE8TbLJlDa7P/xd6vFDxw40N6TGjRoUNsId+/eFb/iCm4wvHv3bniwR5nVtnLy91tbgg1dsQAgIyMjKCjIw8OjuLhYnF0EgKqqqtOnT7crjru7+8SJEw0fY2Ji4uPjbWSryJiYmI8++ohVWLVa7evre+vWrYyMDJnXMP4DSpttDPOOPEPh6ORJOd7gagax2OLs7Myw2ILaHSkFmxOLeYOhUb+1srBdP6Nsv7V5bOunUGTp0qXbt29n+wKBoqIiW3iBQGVlZf/+/TUazeDBg1m9QCAsLGzbtm1MhscQW3wzxYgRI5ycnOrq6urq6qRH8/LycnFxEV9Aqjjdu3d/8sknNRpNXl4ek4BOTk7ikklbw+auWIaXNEVFRYlv4pMYTXxJ086dOxctWsRkhFLYuXPnW2+9RS9pUoC4uDhg+lo5Jj0FTGDeRaLT6YYMGQIA8fHxTAIyxLbEqqysFLsrMV6EKaUhmAlGLeBMEF+E6erqWlFRwSomE2xLrJCQEACYOXMm27A29epew26orBDf6jh37ly2YSViQ2KdOnVKpVJ16tSppKSEeXDxLZhTp05lHtlCXn31VQBYtGgR88iXL18WXzau+ERdW2xFLJ7nR44cCQAffPABRnzTHmU5Mew4j1Qkjo6OBoDhw4fbyPs+BdsR68svvwSArl27GjblZs6GDRtAiQ2GDP3WGzduRErR2NgozqckJycjpWgvyhTOjGjimw72POjp55mYmIi39ODdd9/19fV1D3LfVbMLKcVDSapOcpvm5uvrGxERgZTCzc1t/fr1nn6eB3ocaOKbkLK0D6XNFgRBiK6KBg7GXxqPvaY283omcOBx3qNWK9MmjrXaWo/zHsBB5nXcn2Ce58dfGg8cRFdFoyayEOXFutxy2fmcs4pT/dn0pwzpJpdMBg7eqXhHhlyCILxd/jZwMKlYjh2zcu7m2HF2TrlOJffYP/20F+XFCi4LBg7mXpHpablQU+iY62ifa5/XnIed66LmokOug0OuQ35zPnYukZArIcDBzDLG8zVWoLBY2Q3ZwIHbObeq1irZkkZciwAOxhePx070r5J/AQfvXnsXO5GBmtaaR88/Chwcq2c5w2wFSoql43WDCwcDB2tr1sqZ97butmeeJ3DwjfobvCyH1IeAg8fzHq/T4u7Ya0R8TTxwMKBggJaXY+vNv0NJsbbf3A4c9M3vq9HL/TJj7NT3+Hs+F32Ag89ufoYR3zZTt0UxseS5bPwdhovlupp1GPHX1qxV8LKh1MWyLYqJFVcTBxyMKx6n1ACyGrLEqYcmPeNtDpr0TeIUQ1ZDFtvIljOueBxwEFcTp9QAFBOrlW/95MYnMjyamWFtzdpCTSFG5EJNocw3jkbkNed9cuOTVl6xlxjY3EI/omOgWEkntDzUp0Dqkna2sBpSBz41y5HpiqUVtIvKF93U3XSxc0n1TnWxcwGAyaWTj/oclSE76pA68KlJQaYr1nf13/Vy6pXpkxn6ROile5fkSWoeVkPqwKcmBZm6dGR7e4rlsBpSBz41Kch0xVLZXjsQqyF14FOTgkxiDXcdfrzpOABkNmQeunNInqTmYTWkDnxqUpBJbR74sIqwCm2Fs8p5r/feXxp/SVOnZTdmT+g8YbbH7CnuU2QYA9KQOvCpSUH5aybRIbGJpclEx4PEIlAgsQgUSCwCBRKLQIHEIlAgsQgUSCwCBRKLQIHEIlAgsQgUSCwCBRKLQIHEIlAgsQgUSCwCBRKLQIHEIlAgsQgUSCwCBRKLQIHEIlAgsQgUSCwCBRKLQIHEIlAgsQgUSCwCBRKLQIHEIlAgsQgUSCwCBRKLQIHEIlAgsQgUSCwCBRKLQIHEIlAgsQgUSCwCBRKLQIHEIlAgsQgUSCwCBRKLQIHEIlAgsQgUSCwCBRKLQIHEIlAgsQgUSCwChf8DMJ9q12xCPYcAAAAASUVORK5CYII=\" alt=\"Mol\"/></td>\n",
              "    </tr>\n",
              "    <tr>\n",
              "      <th>718</th>\n",
              "      <td>Coronene</td>\n",
              "      <td>c1cc2ccc3ccc4ccc5ccc6ccc1c7c2c3c4c5c67</td>\n",
              "      <td>-9.332</td>\n",
              "      <td><img data-content=\"rdkit/molecule\" src=\"data:image/png;base64,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\" alt=\"Mol\"/></td>\n",
              "    </tr>\n",
              "    <tr>\n",
              "      <th>297</th>\n",
              "      <td>2,2',3,3',4,4',5,5'-PCB</td>\n",
              "      <td>Clc1cc(c(Cl)c(Cl)c1Cl)c2cc(Cl)c(Cl)c(Cl)c2Cl</td>\n",
              "      <td>-9.160</td>\n",
              "      <td><img data-content=\"rdkit/molecule\" src=\"data:image/png;base64,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\" alt=\"Mol\"/></td>\n",
              "    </tr>\n",
              "    <tr>\n",
              "      <th>60</th>\n",
              "      <td>2,2',3,3',5,5',6,6'-PCB</td>\n",
              "      <td>Clc1cc(Cl)c(Cl)c(c1Cl)c2c(Cl)c(Cl)cc(Cl)c2Cl</td>\n",
              "      <td>-9.150</td>\n",
              "      <td><img data-content=\"rdkit/molecule\" src=\"data:image/png;base64,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\" alt=\"Mol\"/></td>\n",
              "    </tr>\n",
              "    <tr>\n",
              "      <th>676</th>\n",
              "      <td>Benzo[ghi]perylene</td>\n",
              "      <td>c1cc2ccc3ccc4ccc5cccc6c(c1)c2c3c4c56</td>\n",
              "      <td>-9.018</td>\n",
              "      <td><img data-content=\"rdkit/molecule\" src=\"data:image/png;base64,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\" alt=\"Mol\"/></td>\n",
              "    </tr>\n",
              "  </tbody>\n",
              "</table>\n",
              "</div>"
            ],
            "text/plain": [
              "                      Compound ID  ...                                           Molecule\n",
              "603  2,2',3,3',4,4',5,5',6,6'-PCB  ...  <img data-content=\"rdkit/molecule\" src=\"data:i...\n",
              "718                      Coronene  ...  <img data-content=\"rdkit/molecule\" src=\"data:i...\n",
              "297       2,2',3,3',4,4',5,5'-PCB  ...  <img data-content=\"rdkit/molecule\" src=\"data:i...\n",
              "60        2,2',3,3',5,5',6,6'-PCB  ...  <img data-content=\"rdkit/molecule\" src=\"data:i...\n",
              "676            Benzo[ghi]perylene  ...  <img data-content=\"rdkit/molecule\" src=\"data:i...\n",
              "\n",
              "[5 rows x 4 columns]"
            ]
          },
          "metadata": {
            "tags": []
          },
          "execution_count": 24
        }
      ]
    },
    {
      "cell_type": "code",
      "metadata": {
        "id": "WH7GBSR7FqFD",
        "colab_type": "code",
        "colab": {
          "base_uri": "https://localhost:8080/",
          "height": 1000
        },
        "outputId": "83854b10-29e2-4c35-e213-8e43b56e9fb6"
      },
      "source": [
        "##molecules based on moleculare weight\n",
        "data['molecule_weight'] = [Descriptors.MolWt(mol) for mol in data['Molecule']]\n",
        "data.head()"
      ],
      "execution_count": 25,
      "outputs": [
        {
          "output_type": "execute_result",
          "data": {
            "text/html": [
              "<div>\n",
              "<style scoped>\n",
              "    .dataframe tbody tr th:only-of-type {\n",
              "        vertical-align: middle;\n",
              "    }\n",
              "\n",
              "    .dataframe tbody tr th {\n",
              "        vertical-align: top;\n",
              "    }\n",
              "\n",
              "    .dataframe thead th {\n",
              "        text-align: right;\n",
              "    }\n",
              "</style>\n",
              "<table border=\"1\" class=\"dataframe\">\n",
              "  <thead>\n",
              "    <tr style=\"text-align: right;\">\n",
              "      <th></th>\n",
              "      <th>Compound ID</th>\n",
              "      <th>smiles</th>\n",
              "      <th>measured log solubility in mols per litre</th>\n",
              "      <th>Molecule</th>\n",
              "      <th>molecule_weight</th>\n",
              "    </tr>\n",
              "  </thead>\n",
              "  <tbody>\n",
              "    <tr>\n",
              "      <th>0</th>\n",
              "      <td>Amigdalin</td>\n",
              "      <td>OCC3OC(OCC2OC(OC(C#N)c1ccccc1)C(O)C(O)C2O)C(O)...</td>\n",
              "      <td>-0.77</td>\n",
              "      <td><img data-content=\"rdkit/molecule\" src=\"data:image/png;base64,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\" alt=\"Mol\"/></td>\n",
              "      <td>457.432</td>\n",
              "    </tr>\n",
              "    <tr>\n",
              "      <th>1</th>\n",
              "      <td>Fenfuram</td>\n",
              "      <td>Cc1occc1C(=O)Nc2ccccc2</td>\n",
              "      <td>-3.30</td>\n",
              "      <td><img data-content=\"rdkit/molecule\" src=\"data:image/png;base64,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\" alt=\"Mol\"/></td>\n",
              "      <td>201.225</td>\n",
              "    </tr>\n",
              "    <tr>\n",
              "      <th>2</th>\n",
              "      <td>citral</td>\n",
              "      <td>CC(C)=CCCC(C)=CC(=O)</td>\n",
              "      <td>-2.06</td>\n",
              "      <td><img data-content=\"rdkit/molecule\" src=\"data:image/png;base64,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\" alt=\"Mol\"/></td>\n",
              "      <td>152.237</td>\n",
              "    </tr>\n",
              "    <tr>\n",
              "      <th>3</th>\n",
              "      <td>Picene</td>\n",
              "      <td>c1ccc2c(c1)ccc3c2ccc4c5ccccc5ccc43</td>\n",
              "      <td>-7.87</td>\n",
              "      <td><img data-content=\"rdkit/molecule\" src=\"data:image/png;base64,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\" alt=\"Mol\"/></td>\n",
              "      <td>278.354</td>\n",
              "    </tr>\n",
              "    <tr>\n",
              "      <th>4</th>\n",
              "      <td>Thiophene</td>\n",
              "      <td>c1ccsc1</td>\n",
              "      <td>-1.33</td>\n",
              "      <td><img data-content=\"rdkit/molecule\" src=\"data:image/png;base64,iVBORw0KGgoAAAANSUhEUgAAAMgAAADICAIAAAAiOjnJAAAABmJLR0QA/wD/AP+gvaeTAAAZNklEQVR4nO2de1QTZ/r4n8mFi4AkyKXWKteqUBUqvdM9si5SBNzeRFpt2Lbbw1rbk1Xroqenle7p8XhBKr2ty+lxbVprt/rFHyICSqlto7RCQG3BWgjFpagJCCEkkOtMfn9MO1LKJSTvZJLwfv6K48zzPuR8zjuZ53lnhrDZbIDBoIbHdQIY7wSLhWEFLBaGFbBYGFbAYmFYAYuFYQUsFoYVsFgYVhBwncD0wmazNTQ0HDt2LDExMT4+/u677+Y6I7bAYrkCiqLq6+srKyvLysqUSiUAiEQii8XS2NgYHx/PdXasQOCWDntYrdYvv/yyrKysvLxcpVLRG+fNm/fEE0+0tbVVVVUtWrSooaHB39+f2zxZwYZBjdVqlcvlUqk0IiKC+Z6joqKkUqlcLqcoymaz6fX6hQsXAoBUKuU6X1bAYiHDYDBUVFRIJJLg4GDGp5iYmJE+jaSpqcnX15cgiPLyck4SZhUslrMMDw/TPgUFBTE+JSQkFBYWtra2TnxscXExAISGhl67ds012boMLJaDaDSaI0eOSCSSgICAUT5duXLFziAURa1atQoAli1bZrVaWU3YxWCxpkZfX59MJsvOzvbx8aFl4vF4KSkpu3btUiqVDgTs6emZPXs2AOzYsQN5thyCxbKL3t5e2iehUEj7xOfzU1JSSkpKnD+LnTlzhsfjCQSCc+fOIcnWHcBiTURXV1dJSUlaWppAIBjlk0qlQjhQQUEBAMydO7e/vx9hWA7BYo1BZ2dnSUlJSkoKQRC0T35+ftnZ2TKZbGBggI0RLRbLAw88AACrV69mI77rwWLdoqOjg/aJ+THu7+9P+zQ4OOiC0WfOnAkABw4cYHssF4DFsrW0tBQWFiYkJDA+iUSinJwcmUym1+tdmclnn30GAAEBAT/88IMrx2WD6SsW7dP8+fMZn0JCQiQSSUVFhclk4iqrvLw8AFi8eLHBYOAqByRML7FIkpTL5Vu3bo2NjWV8Cg0NpX0ym81cJ2jT6/ULFiwAgI0bN3Kdi1NMC7GY5h1dMaKZN2+eVCqtra21WCxcJ/gbFAqFj48PQRDHjx/nOhfH8Wax7GkGuydFRUUAEBYW5rmtHi8Ua+JmMNfZ2QVFUdnZ2R7d6vEesYaGhsZrBl++fJnr7KaMWq2mT9w7d+7kOhdH8HixJmgG//jjj1xn5xSnTp2iWz319fVc5zJlPFUs5M1g92TLli30eZylij97eJhYEzSDr1+/znV26DGbzffffz8A5OTkcJ3L1PAMsf73v//RzRYe75f71Xx9fdPS0pA3g90QpVJJt3oOHjzIdS5TwK3Fcn0z2D2RyWQe1+pxR7FaWlp27do1shk8Y8YMlzWD3ZNnnnkGAJYuXWo0GrnOxS7cSCy6eTfyPjuxWCyRSI4cOeLiZrAbotPp6Lbm5s2buc7FLrgX6/fN4FmzZnHeDHYSq9VaV1fX0NCAMCbT6qmoqEAYliW4EYtuBkul0jvuuIPxKSwszH2awY7BNJFuu+02Nlbt7d69m/6i3P8S2KViTdAMlsvlJEm6MhmEGAyG8vJyiUQiEomYvys+Ph75/REkSa5YsQIAUlNT3fzrcoVYRqOxtrZWKpWGh4cz33t0dLT7N4MnhrmjkC4HjCz6KxQKlgZVq9X0dLh7926WhkACi2KN2QxOSEjYunWrpzSDx4RpSgYGBo7yyf47Cp2hpqaGIAiBQPDNN9+4YDjHQC+WlzWDGZgmkq+vL9NESk5OLiwsbG9vd3Eymzdvpls9Wq3WxUPbCTKx+vv7ZTJZTk6OlzWDWb2j0GGYVs+aNWu4ymFinBXr5s2bYzaDS0pKuru7kaTICV1dXaWlpdnZ2b+/o/DGjRtcZ2ez2Wzt7e30OUEmk3Gdyxg4LlZHR0dqaiqfz6e/d6FQmJ6eXlpaqlarEebnYq5evTpmE6m0tLSnp4fr7EZz8OBButXjmt92U8JBsSiK2rRpk1AoZJrBHu0Tc0ch4xNzR6Hb/oihWbduHQAkJye7WzHZQbFIkgQAgiDc/HufGLron5yc/PumpE6n4zo7u2BaPVu2bOE6l9/grFhos3ENtE/0XVY0zB2FntLiHUljYyPd6jlx4gTXudxiuohFkqRCoSgsLIyLi2N8cqs7Cp1h586dABAeHu4+rR4vF4tpIt1+++2MT3Pnzs3Pz6+oqHC3Owodhmn1pKenu0mrxzvFGtUMpomMjPT0JtIEqFQq+o8tKiriOhebzcvEoptI+fn5YWFhjE8TPF7Wy6iuriYIQigUfvvtt1zn4hViTdAMnvTxsl7Gxo0bASA2Npbzq3UPFovzZrAbYjQa6deo5OXlcZuJ54k1ZjOYvqPQ9c1gN4Rp9Xz88cccpuExYrlnM9g9OXDgAAAEBgZy2P53d7Fc9nhZL2Pt2rXctnrcVKzxmsEymUyj0bA0qDcxMDAQHR0NAAUFBZwk4F5ieW4z2A1paGgQCoU8Hu/06dOuH90txJrg8bKe0gx2T3bs2EG3ely/hoxjscrKykY9DvSvf/1rVVWVuy0C8VBIkkxLSwOARx55xMX1YY7Fqqmp8aZmsBuiUqnoJ2UWFxe7clwH37BKURSfzycIgqIoBw5nsFgs58+ff+ihh5jHyGCQU11dnZWVJRAI5HI5vVLeBXAsFsY1/P3vf3/nnXfi4uKam5tH3j3FHniemBbs2bPn7rvvViqVUqnUNSPiGWu60N7enpycrNPpDh06RK+UZxU8Y00X7rzzzrfeegsA1q9f39bWxvZwWKxpxAsvvPD000/r9fp169aZzWZWx8JiTS/2798fHR1NL/9ndSD8G2va0dDQ8PDDD5MkWVNTQ6+UZwM8Y0077rvvvu3bt1MUJZFIVCoVS6PgGWs6QlFUenp6XV1dRkZGVVUV0/JHCJ6xpiM8Hk8mk4WGhtbU1Lz99ttsDIFnrOlLVVUV/Zigb775hl4pjxA8Y01fMjMzX3rpJZPJtGbNGp1OhzY4Fmtas3fv3qSkJKVSSd83hhB8KpzuXL58+d577x0eHv7kk0/olfJIwDPWdCchIWHfvn0AsGHDhs7OTlRhsVgYyM/Pf+qpp7RabW5ursViQRITi4UBANi/f39UVFRjY+Mbb7yBJCD+jYX5hXPnzqWmplIUderUKXqlvDPgGQvzCykpKa+//jpFUc8884xarXYyGp6xMLegKGrFihVffPHFypUrT5486UyrB89YmFvweLyPPvpo1qxZ1dXV7777rjOh8IyFGc3JkydXrVrlZKsHz1iY0WRlZb344osmkyk3N9fhVg8WCzMGxcXFiYmJ7e3t9NugHACfCjFjw7R6Dh8+/PTTT0/1cDxjYcYmISGhuLgYAF588cWrV69O9XAsFmZc1q9fn5ub61irB4uFmYh///vfkZGRDQ0Nb7755pQOxL+xMJNw9uzZ1NRUm81WW1u7fPlyO4/CMxZmEh5++OHXXnuNoqi8vLybN2/aeZSDM5bNZnvyyQSC4JWVtTpwOMazoCgqLS3tzJkzmZmZlZWV9rR6HBQLgGpq4gMQycn4VDgt6O7uTkpK6uvre++991566aVJ98enQoxd3HHHHR988AEAvPLKK5cuXZp0fywWxl4ef/zx9evXm0ymtWvXDg8PT7wzFgszBfbt27dkyZLLly9P2urBYmGmgJ+f3+HDh/39/UtLS//73/9OsCcWCzM17rrrrr1798JkrR4s1rTAZDIhjLZhw4bMzEytVltZWTnePlgs76e1tTUqKmriMxdysFhejtFoXLt2rUql+uqrr1DF/Ne//lVVVRUcHJydnT3uTo6+eYBUKEChcItX92ImID8/HwASEhKGhoaQBGxpafH39weATz/9dILdsFjeTFlZGQD4+fldvHgRSUCDwbBkyRIA+Nvf/jbxnlgsr+Xnn38OCQkBgPfffx9VzPXr19s5/2GxvBOSJFNTUwEgKysL1Xu/jh07BgC+vr72zH9YLO9k+/btADBnzpybN28iCfjzzz/PmjULAN577z179sdieSFff/01n8/n8Xh1dXVIApIk+cc//hEAMjMz7Zz/sFjeRn9/f2RkJABs374dVUz6bQNz5szp7e218xAslrfx2GOPAcB9992H6q2icrncgfkPi+VVvP/++wAgEok6OzuRBNRoNPT89/rrr0/pQCyW92Bn6XJK5ObmOjb/YbG8BKZ0mZ+fjyrm/v37ASA4ONiB+Q+L5SXYX7q0k9bW1hkzZgDA4cOHHTgci+UNMKXLCxcuIAloMBgSExMB4IUXXnAsAhbL42FKl++++y6qmBs2bACAO++8c3Bw0LEIWCzPxoHS5aTQdw76+vo2Nzc7HASL5dk4ULqcmO7ubnr+e/vtt52Jg8XyYJjS5eeff44kIEmS9NMZVq5c6eT8h8XyVJjS5WuvvYYq5j//+U8AiIiIUKlUTobCYnkqDpcux+Ps2bMCgYDH49XW1jofDYvlkTCly59++glJQI1GExUVBQCvvvoqkoBYLM/DydLlmDz11FMAcO+996Ka/7BYHobzpcvfU1painb+s2GxPA7nS5ejYOa/Tz75BElAGiyWJ4GkdDkSo9GYlJQEAM8//zySgAxYLI8BVelyJC+//DIAxMXFoZr/GLBYngHC0iUD/X4vhPPfSLBYngHC0iVNd3d3aGgoAOzbtw9JwFFgsTyA8+fPC4VCVKVLm81GkuSf/vQnAMjIyEA1/40Ci+XuIC9d2mw2+m0AERERN27cQBVzFFgsdwd56ZKZ/06fPo0k4Jhgsdwa5KXLgYGB6OhoANi2bRuSgOOBxXJf2Chd0i+Iu+eee0wmE6qYY4LFclPYKF3SD2oPDAz88ccfUcUcDyyWm4K8dNnW1hYUFAQAhw4dQhJwYrBY7gjy0qXRaKRfG/7ss88iCTgpWCy3g43SpVQqZal1Mx5YLPeCjdJlVVUVQRBCofDbb79FEtAesFjuBfLSpUqlioiIAIDi4mIkAe0Ei+VGIC9dkiSZlpYGAI888ghLrZvxcFgsm9HYYTQiW3CIYaN0uWPHDgAIDw9nr3UzHo6LhUEL8tJlQ0ODC1o344HFcguQly6Z+a+goABJwKmCxeIeNkqXa9euBYDk5GS2WzfjgcXiGDZKlwcOHHBZ62Y8BBO+jWc0Ot0XAwPlQ0MKk6mDogZtNpLHCxAKZ/v7Lw4OzhKLV/N4M6YUEFNQUHDhwoW4uLh33nkHSUClUrlx40YA2L9///z585HEdAB732JvNP549Wre0FDDBPsIhXMiIz8IDl6JKDfvp7q6OisrSyAQyOXy+++/3/mAJpPpwQcfvHDhQl5enkwmcz6gw9glltHYduXK/SQ5QP+Tzw+aMeMeoXA2QQgsFtXQUAPzXwTBj409gd2yB7VanZiYqFari4uLJ33Fsp1s2rSppKQkNja2ubl55syZSGI6iD3nyytXHlYoQKGApiYftfodkjSM/F+KMvf07G9u9qP3uXTpNpIcZuO07U2wUbqsrq52fetmPCYXy2hsp41RKECtHveOtr6+Q8xuvb2lSJP0QpCXLlUq1W233QYARUVFSAI6yeRvWDUYLjOfRaLHxtstJORpoXAOAAiFEWZzl/NTqRfT2Nj4xhtvEATxn//8h7bBSSiKkkgkKpUqPT0d1VnVSSa/KqSoIeazUDjBt8CbP79OIAgRCMJQJOa1aLXa3Nxci8VSUFCQlZWFJOaePXtqa2vDw8M//PBDHs89Xsc86Zym033NnOMGB8+wP4l6OchLl42NjT4+PgRBnDhxAklAJEwuFkWZvvsukhbru+8ih4cvuSAtbwV56VKn09HFqi1btiAJiAq7rgo1mmMKBfHrhSFfqXy8r+8Ts9nVDXNPp729nW7dfPzxx6hirlu3Du38hwp7C6QazdGrV5+nKP3IjX5+C4KCUoOCls+cuYLPFyM/TXsTbJQuP/zww+eeey4gIKCpqWnBggVIYqLCXrEAwGrt6+kp6es7ZDZfHR2FEAYFpYaFbRCJHgUgEOfoFSAvXSqVyqVLl+p0OplMlpeX53xAtExBLIbh4YuDg6d1ui/0+nOj5rAZM5JjY//PxyeK/ufVq8/5+y8Si59ktkxPampqMjMzEbZuLBbLH/7wh/Pnz69Zs+azzz5zPiByHBGLwWYjh4ebNJqj/f2fWizX6I0CQdjChfW+vnEmU2dLSwy90c8vQSzOCQnJ9fOLR5C1R6FWq5OSklQqVVFR0ZYtW5DEfOWVV956662YmJgLFy5w3LoZB6fEYrDZSLW6+Nq1bQA2ABCJHo2NLacoo1Z7cmCgTKs9SZKD9J7+/otEoifF4if9/Rc7P677Q1FURkZGbW1tenp6dXU1kiLTqVOnVq5cyefz5XL5Aw884HxAVkB4IdDd/SpT8TIalcx2ijJqtbVdXdKLF8OZHb7/PrqrS6rTyW02ly7ydzE7d+4EgPDw8OvXryMJqFar6WL97t27kQRkCTQzFo3J9FNLSyz9OSbmqFi8+ncSk0ND32g0RzWaoxbLDXqjj888kegxsTgnMPAhAPeoGiOio6MjPj7earVWVVVlZGQ4H5CZ/1JTU+vq6tylyD4Wk4hlMHyv1Z4YHm42m7sWLKgniIlaQCSpuXgxhP4cHf1xSMgz4+9L6fX1Gs3RgYFjZnM3vUkgCAsOzhCLc2bOzCAI4VT/Evfk0KFD7e3t9IMenWfPnj1bt24NCwu7dOnS7NmzkcRkiUnE6u//tLNzLf05NrZcJHp0gp11ujNtbcvpz/Pn1wUFLbcnA4OhVaM5qtF8ajS20VsEgpDg4CyxOGfmzEcIwseeINOBpqamhx56yGKxHD9+fNWqVVynMwmTiEVR+u+/j7Ja+wDA1zdmwYJz4/WhbTZTW9tyvb4eAHi8gMTEXh7Pf0qp/GrYEaPxB3oLny8SiVYFB68KDs7k8QKmFM3L0Ov1ycnJbW1tmzdvLi4u5jqdyZn8N1Zv7/tdXS/Tn3187rj99jfF4jW/XdtO6XRfXbu2jVm4PHv2a7ff/qbDORkMrVptpVZ7Qq8/R2/h8WYEBS0Xi3NEosf5/CCHI3suEonk0KFDS5cura+v9/X15TqdybHrx3tX1/re3tJbxxA+fn4LhcJwm81mtarM5m6S1DL/O3NmRlxcOUEg+OPN5qsDA8c1mqN6fT1dyODx/IKC0sTiHJHoUT4/2PkhPIKPPvroL3/5S0BAgEKhWLhwIdfp2IW9V4W9vfuvX3+dPieOB4/nFxGxdfbsV5H/MDKbuwYG/p9WW6nTfWmzWQGAIPgBAQ+IxTli8VNCYQTa4dyKjo6OpUuXDg4OHjx48Nlnn+U6HXuZQrmBovQDA8e12hqD4XuL5WeS1AEQfH6QQBAxY0ZiYOCykJBcPl/EarpW602ttkqjOTo4eMpms8BvDFsjFLr1hZIDMK2bnJycI0eOcJ3OFEBZx3IlVmu/Vlup0RwdHDxts5kBAIAXGPhgcPAqsXi1r28sx/kh4h//+MfevXtjYmKam5uDgz3p1O+pYjGQ5MDgYK1We0KjOcasov61NbnWz4+zOzad5/Tp0ytXruTxeF9//fWDDz7IdTpTw+PFYqAog073uUZzdGCgnCR19MZfDVvj55fAbXpTpaenJykp6caNGzt37ty2bRvX6UwZ7xGLgaIMg4M1Gk2ZVlvJXK76+9918+bzIlHakiVLuE3PHmw225///OfKysply5bV1dXx+XyuM5o6XDQoXQRFWXU6eVeX9NKlCIUCMjLuBYCoqCipVCqXy138hLspUVRUBABhYWHXrl3jOhcH8WaxGCjKotXWSqUv00/jpImMjNy0adPZs2dJkuQ6wd+gUCjou26OHz/OdS6OMy3EYiBJUi6Xb926NTb21mVjaGioRCKpqKhA9RYkZ9Dr9fTq9Y0bN3Kdi1NML7FG0tLSUlhYOPIehJCQENowDu94oVevL1682GAwTL63GzN9xWKgDUtIuHXZKBKJcnJyZDKZXq93ZSb06vWAgIAffvjBleOyARbrFh0dHSUlJSkpKQTxy41G/v7+2dnZMpnMBS906OjooFevHzhwgO2xXAAWaww6OztHGebn50cbNjAwwMaIFouFXr2+evVqNuK7HizWRHR1dZWUlKSlpQkEvyyd5fP5KSkpJSUlqF76TVNQUAAAc+fO7e/vRxiWQ7BYdtHb2yuTybKzs4VC4SjDnC81nTlzhsfjCQSCc+fOIcnWHcBiTY2+vj7aMB+fX5YG8Xi8lJSUXbt2KZXKyY//HT09PfTq9R07diDPlkOwWA6i0WiOHDkikUgCAm6tmU5ISCgsLLxy5YqdQSiKolevL1u2zGq1spqwi8FiOcvw8HBFRYVEIqGfJDPSsNbW1omPpVevh4aGem7rZjywWMgwGAy0YSMXTsXExIzXmmxqavL19SUIory8nJOEWQWLhR6r1SqXy6VS6cjW5Kjmt16vp1evS6VSrvNlBS9cNuM+WK3WL7/8sqysrLy8XKVS0RvnzZv3xBNPtLW1VVVVLVq0qKGhwd9/avfJeQRYLFdAUVR9fX1lZWVZWZlSqQQAsVhsNpsbGxvj473z8TtYLJdis9kaGhqOHTuWmJgYHx9Pv57JK8FiYVjBfR9XgvFosFgYVsBiYVgBi4VhBSwWhhWwWBhWwGJhWAGLhWGF/w9Nmep7cKjPOwAAAABJRU5ErkJggg==\" alt=\"Mol\"/></td>\n",
              "      <td>84.143</td>\n",
              "    </tr>\n",
              "  </tbody>\n",
              "</table>\n",
              "</div>"
            ],
            "text/plain": [
              "  Compound ID  ... molecule_weight\n",
              "0   Amigdalin  ...         457.432\n",
              "1    Fenfuram  ...         201.225\n",
              "2      citral  ...         152.237\n",
              "3      Picene  ...         278.354\n",
              "4   Thiophene  ...          84.143\n",
              "\n",
              "[5 rows x 5 columns]"
            ]
          },
          "metadata": {
            "tags": []
          },
          "execution_count": 25
        }
      ]
    },
    {
      "cell_type": "code",
      "metadata": {
        "id": "0q-3pWHjGAOh",
        "colab_type": "code",
        "colab": {}
      },
      "source": [
        ""
      ],
      "execution_count": 0,
      "outputs": []
    }
  ]
}